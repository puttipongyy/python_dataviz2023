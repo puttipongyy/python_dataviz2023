{
  "nbformat": 4,
  "nbformat_minor": 0,
  "metadata": {
    "colab": {
      "provenance": [],
      "toc_visible": true,
      "authorship_tag": "ABX9TyPtOiZDINyaa9NPReeH3ip3",
      "include_colab_link": true
    },
    "kernelspec": {
      "name": "python3",
      "display_name": "Python 3"
    },
    "language_info": {
      "name": "python"
    }
  },
  "cells": [
    {
      "cell_type": "markdown",
      "metadata": {
        "id": "view-in-github",
        "colab_type": "text"
      },
      "source": [
        "<a href=\"https://colab.research.google.com/github/puttipongyy/python_dataviz2023/blob/main/python101.ipynb\" target=\"_parent\"><img src=\"https://colab.research.google.com/assets/colab-badge.svg\" alt=\"Open In Colab\"/></a>"
      ]
    },
    {
      "cell_type": "markdown",
      "source": [
        "# การแสดงผล"
      ],
      "metadata": {
        "id": "owY3rr890xp7"
      }
    },
    {
      "cell_type": "markdown",
      "source": [
        "print()"
      ],
      "metadata": {
        "id": "j3AncEOKysTT"
      }
    },
    {
      "cell_type": "code",
      "execution_count": 1,
      "metadata": {
        "colab": {
          "base_uri": "https://localhost:8080/"
        },
        "id": "utQ_3D1turO8",
        "outputId": "facecdf6-5448-409b-bfcc-1d7d82aef9d2"
      },
      "outputs": [
        {
          "output_type": "stream",
          "name": "stdout",
          "text": [
            "stat sathiti\n"
          ]
        }
      ],
      "source": [
        "print('stat','sathiti')"
      ]
    },
    {
      "cell_type": "markdown",
      "source": [
        "print() with seperater *default = ' '"
      ],
      "metadata": {
        "id": "_YGYYGyRyznD"
      }
    },
    {
      "cell_type": "code",
      "source": [
        "print('stat','sathiti','Lovemath<3', sep=' mudaLoveLove ')"
      ],
      "metadata": {
        "colab": {
          "base_uri": "https://localhost:8080/"
        },
        "id": "YC2sBvxVwdrH",
        "outputId": "6df4771e-82a1-4e23-cc6e-f44b65c852b7"
      },
      "execution_count": 11,
      "outputs": [
        {
          "output_type": "stream",
          "name": "stdout",
          "text": [
            "stat mudaLoveLove sathiti mudaLoveLove Lovemath<3\n"
          ]
        }
      ]
    },
    {
      "cell_type": "markdown",
      "source": [
        "print() with ender *default = '\\n'"
      ],
      "metadata": {
        "id": "mcfzqATFzD9H"
      }
    },
    {
      "cell_type": "code",
      "source": [
        "print('muda', end = ', ')\n",
        "print('oraa')"
      ],
      "metadata": {
        "colab": {
          "base_uri": "https://localhost:8080/"
        },
        "id": "ajufLrICxtgo",
        "outputId": "92f41522-953f-4c11-b08b-ca455f995da9"
      },
      "execution_count": 8,
      "outputs": [
        {
          "output_type": "stream",
          "name": "stdout",
          "text": [
            "muda, oraa\n"
          ]
        }
      ]
    },
    {
      "cell_type": "markdown",
      "source": [
        "# ชนิดของตัวแปร"
      ],
      "metadata": {
        "id": "R12VC2kezWQ5"
      }
    },
    {
      "cell_type": "code",
      "source": [
        "a = 12\n",
        "b = 1.3\n"
      ],
      "metadata": {
        "id": "Qyx6Zhok0CXT"
      },
      "execution_count": 16,
      "outputs": []
    },
    {
      "cell_type": "code",
      "source": [
        "print(type(a), type(b))"
      ],
      "metadata": {
        "colab": {
          "base_uri": "https://localhost:8080/"
        },
        "id": "b0uRhWOf0kdk",
        "outputId": "00f1a06e-6055-405a-ad05-fac63286651c"
      },
      "execution_count": 17,
      "outputs": [
        {
          "output_type": "stream",
          "name": "stdout",
          "text": [
            "<class 'int'> <class 'float'>\n"
          ]
        }
      ]
    },
    {
      "cell_type": "code",
      "source": [
        "c = a/b"
      ],
      "metadata": {
        "id": "FtoBnk110sdA"
      },
      "execution_count": 18,
      "outputs": []
    },
    {
      "cell_type": "code",
      "source": [
        "c"
      ],
      "metadata": {
        "colab": {
          "base_uri": "https://localhost:8080/"
        },
        "id": "yQ22kBEu1CMW",
        "outputId": "ea3eda90-6bd3-4b2a-aeec-99e669617be8"
      },
      "execution_count": 19,
      "outputs": [
        {
          "output_type": "execute_result",
          "data": {
            "text/plain": [
              "9.23076923076923"
            ]
          },
          "metadata": {},
          "execution_count": 19
        }
      ]
    },
    {
      "cell_type": "markdown",
      "source": [
        "modulo(%) หารเอาเศษ"
      ],
      "metadata": {
        "id": "w-xiW_ze1iEw"
      }
    },
    {
      "cell_type": "code",
      "source": [
        "7%2"
      ],
      "metadata": {
        "colab": {
          "base_uri": "https://localhost:8080/"
        },
        "id": "oswzcYQk1HR9",
        "outputId": "12796b4a-c5ad-4f71-e304-61e1e5fc46fa"
      },
      "execution_count": 22,
      "outputs": [
        {
          "output_type": "execute_result",
          "data": {
            "text/plain": [
              "1"
            ]
          },
          "metadata": {},
          "execution_count": 22
        }
      ]
    },
    {
      "cell_type": "markdown",
      "source": [
        "ยกกำลัง(**)"
      ],
      "metadata": {
        "id": "WiFlj0Nd0tiS"
      }
    },
    {
      "cell_type": "code",
      "source": [
        "2**4"
      ],
      "metadata": {
        "colab": {
          "base_uri": "https://localhost:8080/"
        },
        "id": "i8X1af1d1wSg",
        "outputId": "4583bbd8-6218-40a6-d4e5-b269ae92f8b2"
      },
      "execution_count": 23,
      "outputs": [
        {
          "output_type": "execute_result",
          "data": {
            "text/plain": [
              "16"
            ]
          },
          "metadata": {},
          "execution_count": 23
        }
      ]
    },
    {
      "cell_type": "markdown",
      "source": [
        "# string ( ```'```&```''```)"
      ],
      "metadata": {
        "id": "imPRJ0a-31BH"
      }
    },
    {
      "cell_type": "markdown",
      "source": [
        "# quiz1"
      ],
      "metadata": {
        "id": "iTLP8Kw75Ftf"
      }
    },
    {
      "cell_type": "markdown",
      "source": [
        "## ทำคำว่ามาก ก 100 ตัว"
      ],
      "metadata": {
        "id": "vhjcKWCq58Gh"
      }
    },
    {
      "cell_type": "code",
      "source": [
        "'มา' + 'ก'*100"
      ],
      "metadata": {
        "colab": {
          "base_uri": "https://localhost:8080/",
          "height": 36
        },
        "id": "Mgtd2g022Ayc",
        "outputId": "7b9eafed-8d71-4789-b864-dc0d6c81e247"
      },
      "execution_count": 24,
      "outputs": [
        {
          "output_type": "execute_result",
          "data": {
            "text/plain": [
              "'มากกกกกกกกกกกกกกกกกกกกกกกกกกกกกกกกกกกกกกกกกกกกกกกกกกกกกกกกกกกกกกกกกกกกกกกกกกกกกกกกกกกกกกกกกกกกกกกกกกกก'"
            ],
            "application/vnd.google.colaboratory.intrinsic+json": {
              "type": "string"
            }
          },
          "metadata": {},
          "execution_count": 24
        }
      ]
    }
  ]
}